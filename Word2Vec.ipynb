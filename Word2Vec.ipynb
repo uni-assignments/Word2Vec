{
  "nbformat": 4,
  "nbformat_minor": 0,
  "metadata": {
    "colab": {
      "name": "Word2Vec.ipynb",
      "provenance": [],
      "collapsed_sections": [],
      "mount_file_id": "1-ShORRcjh1fhRQX7CIkEGxueFQG5Czp8",
      "authorship_tag": "ABX9TyMatnjiRQKZ2amwTVEE3h+Z",
      "include_colab_link": true
    },
    "kernelspec": {
      "name": "python3",
      "display_name": "Python 3"
    },
    "language_info": {
      "name": "python"
    }
  },
  "cells": [
    {
      "cell_type": "markdown",
      "metadata": {
        "id": "view-in-github",
        "colab_type": "text"
      },
      "source": [
        "<a href=\"https://colab.research.google.com/github/uni-assignments/Word2Vec/blob/main/Word2Vec.ipynb\" target=\"_parent\"><img src=\"https://colab.research.google.com/assets/colab-badge.svg\" alt=\"Open In Colab\"/></a>"
      ]
    },
    {
      "cell_type": "code",
      "metadata": {
        "colab": {
          "base_uri": "https://localhost:8080/"
        },
        "id": "Z4LSwA9LO8j9",
        "outputId": "81340fad-3ece-4d0a-9031-3aeab5c07587"
      },
      "source": [
        "import pandas as pd\n",
        "import numpy as np\n",
        "import nltk, itertools, requests, zipfile\n",
        "\n",
        "from nltk.corpus import stopwords\n",
        "from nltk.tokenize import word_tokenize\n",
        "from gensim.models import Word2Vec\n",
        "\n",
        "\n",
        "nltk.download('stopwords')\n",
        "nltk.download('punkt')\n"
      ],
      "execution_count": null,
      "outputs": [
        {
          "output_type": "stream",
          "name": "stdout",
          "text": [
            "[nltk_data] Downloading package stopwords to /root/nltk_data...\n",
            "[nltk_data]   Package stopwords is already up-to-date!\n",
            "[nltk_data] Downloading package punkt to /root/nltk_data...\n",
            "[nltk_data]   Package punkt is already up-to-date!\n"
          ]
        },
        {
          "output_type": "execute_result",
          "data": {
            "text/plain": [
              "True"
            ]
          },
          "metadata": {},
          "execution_count": 1
        }
      ]
    },
    {
      "cell_type": "markdown",
      "metadata": {
        "id": "Nxitmu2mkdkp"
      },
      "source": [
        "## Download e descompactação do corpus disponibilizado pelo Professor: [text8](http://mattmahoney.net/dc/text8.zip)\n",
        "\n",
        "O download do link foi realizado pela biblioteca **requests**, para a descompactação do arquivo zip foi utilizada a biblioteca **zipfile**. Por fim o conteudo do arquivo é lido e armazenado em uma variável *corpus* como uma cadeia de caractéres."
      ]
    },
    {
      "cell_type": "code",
      "metadata": {
        "colab": {
          "base_uri": "https://localhost:8080/"
        },
        "id": "RnjcDxUUVgZE",
        "outputId": "4750cd69-e8cb-458f-8090-c5638828def1"
      },
      "source": [
        "fname = 'text8.zip'\n",
        "url = 'http://mattmahoney.net/dc/' + fname\n",
        "r = requests.get(url)\n",
        "open(fname , 'wb').write(r.content)\n",
        "\n",
        "with zipfile.ZipFile(fname, 'r') as zip_ref:\n",
        "    zip_ref.extractall(\"\")\n",
        "\n",
        "with open('text8', 'r') as file:\n",
        "    corpus = file.read().replace('\\n', '')\n",
        "\n",
        "print(corpus[:200])"
      ],
      "execution_count": null,
      "outputs": [
        {
          "output_type": "stream",
          "name": "stdout",
          "text": [
            " anarchism originated as a term of abuse first used against early working class radicals including the diggers of the english revolution and the sans culottes of the french revolution whilst the term \n"
          ]
        }
      ]
    },
    {
      "cell_type": "markdown",
      "metadata": {
        "id": "eY4QrcTJPnF_"
      },
      "source": [
        "## Pré-Processamento de Dados\n",
        "Nesta etapa, todo o texto transformado numa lista de palavras e colocado em caixa baixa. Além disso, pontuações, números, caractéres especiais e stopwords foram removidas."
      ]
    },
    {
      "cell_type": "markdown",
      "metadata": {
        "id": "BrxKfQ90utCg"
      },
      "source": [
        "#### Texto convertido para caixa baixa:"
      ]
    },
    {
      "cell_type": "code",
      "metadata": {
        "colab": {
          "base_uri": "https://localhost:8080/"
        },
        "id": "PAuJ_NdFqZzM",
        "outputId": "ef13ab8f-d033-40cd-c745-21e24e5333b6"
      },
      "source": [
        "corpus = corpus.lower()\n",
        "print(corpus[:200])"
      ],
      "execution_count": null,
      "outputs": [
        {
          "output_type": "stream",
          "name": "stdout",
          "text": [
            " anarchism originated as a term of abuse first used against early working class radicals including the diggers of the english revolution and the sans culottes of the french revolution whilst the term \n"
          ]
        }
      ]
    },
    {
      "cell_type": "markdown",
      "metadata": {
        "id": "fWQIah1iuzW7"
      },
      "source": [
        "#### Texto transformado em uma lista de palavras utilizando a biblioteca **NLTK**"
      ]
    },
    {
      "cell_type": "code",
      "metadata": {
        "colab": {
          "base_uri": "https://localhost:8080/"
        },
        "id": "f4Sgo6Hll08F",
        "outputId": "7dfb53f4-699c-46d3-a45e-da772513b5ac"
      },
      "source": [
        "word_tokens = word_tokenize(corpus)\n",
        "print(word_tokens[:200])"
      ],
      "execution_count": null,
      "outputs": [
        {
          "output_type": "stream",
          "name": "stdout",
          "text": [
            "['anarchism', 'originated', 'as', 'a', 'term', 'of', 'abuse', 'first', 'used', 'against', 'early', 'working', 'class', 'radicals', 'including', 'the', 'diggers', 'of', 'the', 'english', 'revolution', 'and', 'the', 'sans', 'culottes', 'of', 'the', 'french', 'revolution', 'whilst', 'the', 'term', 'is', 'still', 'used', 'in', 'a', 'pejorative', 'way', 'to', 'describe', 'any', 'act', 'that', 'used', 'violent', 'means', 'to', 'destroy', 'the', 'organization', 'of', 'society', 'it', 'has', 'also', 'been', 'taken', 'up', 'as', 'a', 'positive', 'label', 'by', 'self', 'defined', 'anarchists', 'the', 'word', 'anarchism', 'is', 'derived', 'from', 'the', 'greek', 'without', 'archons', 'ruler', 'chief', 'king', 'anarchism', 'as', 'a', 'political', 'philosophy', 'is', 'the', 'belief', 'that', 'rulers', 'are', 'unnecessary', 'and', 'should', 'be', 'abolished', 'although', 'there', 'are', 'differing', 'interpretations', 'of', 'what', 'this', 'means', 'anarchism', 'also', 'refers', 'to', 'related', 'social', 'movements', 'that', 'advocate', 'the', 'elimination', 'of', 'authoritarian', 'institutions', 'particularly', 'the', 'state', 'the', 'word', 'anarchy', 'as', 'most', 'anarchists', 'use', 'it', 'does', 'not', 'imply', 'chaos', 'nihilism', 'or', 'anomie', 'but', 'rather', 'a', 'harmonious', 'anti', 'authoritarian', 'society', 'in', 'place', 'of', 'what', 'are', 'regarded', 'as', 'authoritarian', 'political', 'structures', 'and', 'coercive', 'economic', 'institutions', 'anarchists', 'advocate', 'social', 'relations', 'based', 'upon', 'voluntary', 'association', 'of', 'autonomous', 'individuals', 'mutual', 'aid', 'and', 'self', 'governance', 'while', 'anarchism', 'is', 'most', 'easily', 'defined', 'by', 'what', 'it', 'is', 'against', 'anarchists', 'also', 'offer', 'positive', 'visions', 'of', 'what', 'they', 'believe', 'to', 'be', 'a', 'truly', 'free', 'society']\n"
          ]
        }
      ]
    },
    {
      "cell_type": "markdown",
      "metadata": {
        "id": "wlFTqMQfvKh5"
      },
      "source": [
        "#### Stopwords, obtidas pelo pacote **NLTK**, retiradas do texto."
      ]
    },
    {
      "cell_type": "code",
      "metadata": {
        "colab": {
          "base_uri": "https://localhost:8080/"
        },
        "id": "YLzepQjzPIyM",
        "outputId": "a9710ead-80b8-477c-a3d3-4c607f09b790"
      },
      "source": [
        "stop_words = set(stopwords.words('english'))\n",
        "filtered_words = [w for w in word_tokens if not w in stop_words]\n",
        "print(filtered_words[:200])"
      ],
      "execution_count": null,
      "outputs": [
        {
          "output_type": "stream",
          "name": "stdout",
          "text": [
            "['anarchism', 'originated', 'term', 'abuse', 'first', 'used', 'early', 'working', 'class', 'radicals', 'including', 'diggers', 'english', 'revolution', 'sans', 'culottes', 'french', 'revolution', 'whilst', 'term', 'still', 'used', 'pejorative', 'way', 'describe', 'act', 'used', 'violent', 'means', 'destroy', 'organization', 'society', 'also', 'taken', 'positive', 'label', 'self', 'defined', 'anarchists', 'word', 'anarchism', 'derived', 'greek', 'without', 'archons', 'ruler', 'chief', 'king', 'anarchism', 'political', 'philosophy', 'belief', 'rulers', 'unnecessary', 'abolished', 'although', 'differing', 'interpretations', 'means', 'anarchism', 'also', 'refers', 'related', 'social', 'movements', 'advocate', 'elimination', 'authoritarian', 'institutions', 'particularly', 'state', 'word', 'anarchy', 'anarchists', 'use', 'imply', 'chaos', 'nihilism', 'anomie', 'rather', 'harmonious', 'anti', 'authoritarian', 'society', 'place', 'regarded', 'authoritarian', 'political', 'structures', 'coercive', 'economic', 'institutions', 'anarchists', 'advocate', 'social', 'relations', 'based', 'upon', 'voluntary', 'association', 'autonomous', 'individuals', 'mutual', 'aid', 'self', 'governance', 'anarchism', 'easily', 'defined', 'anarchists', 'also', 'offer', 'positive', 'visions', 'believe', 'truly', 'free', 'society', 'however', 'ideas', 'anarchist', 'society', 'might', 'work', 'vary', 'considerably', 'especially', 'respect', 'economics', 'also', 'disagreement', 'free', 'society', 'might', 'brought', 'origins', 'predecessors', 'kropotkin', 'others', 'argue', 'recorded', 'history', 'human', 'society', 'organized', 'anarchist', 'principles', 'anthropologists', 'follow', 'kropotkin', 'engels', 'believing', 'hunter', 'gatherer', 'bands', 'egalitarian', 'lacked', 'division', 'labour', 'accumulated', 'wealth', 'decreed', 'law', 'equal', 'access', 'resources', 'william', 'godwin', 'anarchists', 'including', 'anarchy', 'organisation', 'rothbard', 'find', 'anarchist', 'attitudes', 'taoism', 'ancient', 'china', 'kropotkin', 'found', 'similar', 'ideas', 'stoic', 'zeno', 'citium', 'according', 'kropotkin', 'zeno', 'repudiated', 'omnipotence', 'state', 'intervention', 'regimentation', 'proclaimed', 'sovereignty', 'moral', 'law', 'individual', 'anabaptists']\n"
          ]
        }
      ]
    },
    {
      "cell_type": "markdown",
      "metadata": {
        "id": "9mXMX5b_sEyb"
      },
      "source": [
        "## Treinamento dos Modelos\n",
        "Em seguida por intermédio da biblioteca gensim os modelos *Continuous Bag of Words* e *Skip-Gram* foram treinados. Como hiperparâmetros dos modelos é interessante destacar os seguintes atributos:\n",
        "#### Parâmetros fixos\n",
        "\n",
        "*   Epochs = 10\n",
        "*   Min Count = 1\n",
        "*   Report Delay = 1\n",
        "*   Alpha = 0.01\n",
        "\n",
        "#### Parâmetros que foram variados\n",
        "*   Size: define a dimensão dos embeddings\n",
        "*   Window: define o tamanho do contexto a ser analizado, ou seja a distância máxima entre a palavra atual e a palavra predita.\n",
        "*   Total-examples:  \n",
        "*   sg: O algoritmo de treinamento, pode ser tanto o *Continuous Bag of Words*, codificado como 0, ou o *Skip-Gram*, codificado como 1.\n",
        "\n"
      ]
    },
    {
      "cell_type": "code",
      "metadata": {
        "id": "fkF1YC2Br8cm"
      },
      "source": [
        "skip_gram = Word2Vec(filtered_words, min_count=1,size= 50,workers=3, window =3, sg = 1)\n",
        "skip_gram.save(\"skip_gram.model\")"
      ],
      "execution_count": null,
      "outputs": []
    },
    {
      "cell_type": "code",
      "metadata": {
        "id": "L-0uV1HMx6j1"
      },
      "source": [
        "skip_gram.most_similar('working', 'including')\n"
      ],
      "execution_count": null,
      "outputs": []
    }
  ]
}