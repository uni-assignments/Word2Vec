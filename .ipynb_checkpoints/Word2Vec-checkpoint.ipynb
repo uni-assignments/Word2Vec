{
 "cells": [
  {
   "cell_type": "code",
   "execution_count": 30,
   "metadata": {
    "colab": {
     "base_uri": "https://localhost:8080/"
    },
    "id": "Z4LSwA9LO8j9",
    "outputId": "4f00db84-a70c-4d8c-cf97-a75b7bf50c56"
   },
   "outputs": [
    {
     "name": "stderr",
     "output_type": "stream",
     "text": [
      "[nltk_data] Downloading package stopwords to\n",
      "[nltk_data]     C:\\Users\\ritar\\AppData\\Roaming\\nltk_data...\n",
      "[nltk_data]   Package stopwords is already up-to-date!\n",
      "[nltk_data] Downloading package punkt to\n",
      "[nltk_data]     C:\\Users\\ritar\\AppData\\Roaming\\nltk_data...\n",
      "[nltk_data]   Package punkt is already up-to-date!\n"
     ]
    },
    {
     "data": {
      "text/plain": [
       "True"
      ]
     },
     "execution_count": 30,
     "metadata": {},
     "output_type": "execute_result"
    }
   ],
   "source": [
    "import pandas as pd\n",
    "import numpy as np\n",
    "import matplotlib.pyplot as plt\n",
    "import plotly\n",
    "import nltk, itertools, requests, zipfile, os\n",
    "from gensim.models.word2vec import Text8Corpus\n",
    "from nltk.corpus import stopwords\n",
    "from nltk.tokenize import word_tokenize\n",
    "from gensim.models import Word2Vec\n",
    "from sklearn.manifold import TSNE\n",
    "from itertools import product\n",
    "from time import time \n",
    "from plotly.subplots import make_subplots\n",
    "import plotly.graph_objects as go\n",
    "nltk.download('stopwords')\n",
    "nltk.download('punkt')"
   ]
  },
  {
   "cell_type": "markdown",
   "metadata": {
    "id": "Nxitmu2mkdkp"
   },
   "source": [
    "## Download e descompactação do corpus disponibilizado pelo Professor: [text8](http://mattmahoney.net/dc/text8.zip)\n",
    "\n",
    "O download do link foi realizado pela biblioteca **requests**, para a descompactação do arquivo zip foi utilizada a biblioteca **zipfile**. Por fim o conteudo do arquivo é lido e armazenado em uma variável *corpus* como uma cadeia de caractéres."
   ]
  },
  {
   "cell_type": "code",
   "execution_count": 2,
   "metadata": {},
   "outputs": [],
   "source": [
    "def download_corpus(path, file_name, url):\n",
    "    \n",
    "    if not os.path.isfile(path + 'text8'):\n",
    "        try:\n",
    "            r = requests.get(url)\n",
    "            open(path + file_name , 'wb').write(r.content)\n",
    "            with zipfile.ZipFile(path + file_name, 'r') as zip_ref:\n",
    "                zip_ref.extractall(path)\n",
    "        except (requests.exceptions.ConnectionError, requests.exceptions.HTTPError, \n",
    "                requests.exceptions.Timeout, requests.exceptions.RequestException) as err:\n",
    "            print (\"Error Connecting:\",err)  \n",
    "            return None\n",
    "\n",
    "def get_corpus(path, file_name):\n",
    "\n",
    "    with open(path + 'text8', 'r') as file:\n",
    "        data = file.read().replace('\\n', '')\n",
    "    \n",
    "    return data"
   ]
  },
  {
   "cell_type": "code",
   "execution_count": 3,
   "metadata": {},
   "outputs": [
    {
     "name": "stdout",
     "output_type": "stream",
     "text": [
      " anarchism originated as a term of abuse first used against early working class radicals including the diggers of the english revolution and the sans culottes of the french revolution whilst the term \n"
     ]
    }
   ],
   "source": [
    "corpus = download_corpus('./data/', 'text8.zip', 'http://mattmahoney.net/dc/text8.zip')\n",
    "corpus = get_corpus('./data/', 'text8.zip')\n",
    "print(corpus[:200])"
   ]
  },
  {
   "cell_type": "markdown",
   "metadata": {},
   "source": [
    "## Download de analogias disponibilizadas pelo Professor: [analogias](https://github.com/nicholas-leonard/word2vec/blob/master/questions-words.txt)\n",
    "O download do link foi realizado pela biblioteca **requests**. "
   ]
  },
  {
   "cell_type": "code",
   "execution_count": 4,
   "metadata": {},
   "outputs": [],
   "source": [
    "def download_analogies(path, file_name, url):\n",
    "\n",
    "    if not os.path.isfile(path + file_name):\n",
    "        try:\n",
    "            r = requests.get(url)\n",
    "            open(path + file_name , 'wb').write(r.content)\n",
    "        except (requests.exceptions.ConnectionError, requests.exceptions.HTTPError, \n",
    "                requests.exceptions.Timeout, requests.exceptions.RequestException) as err:\n",
    "            print (\"Error Connecting:\",err)  \n",
    "            return None\n",
    "\n",
    "        \n",
    "def get_analogies(path, file_name):\n",
    "    \n",
    "    data = []\n",
    "    with open(path + file_name) as fp:\n",
    "        lines = fp.readlines()\n",
    "        for line in lines:\n",
    "            data.append(line.strip().lower())\n",
    "    \n",
    "    return data"
   ]
  },
  {
   "cell_type": "code",
   "execution_count": 5,
   "metadata": {},
   "outputs": [
    {
     "name": "stdout",
     "output_type": "stream",
     "text": [
      "['athens greece baghdad iraq', 'athens greece bangkok thailand', 'athens greece beijing china', 'athens greece berlin germany', 'athens greece bern switzerland', 'athens greece cairo egypt', 'athens greece canberra australia', 'athens greece hanoi vietnam', 'athens greece havana cuba']\n"
     ]
    }
   ],
   "source": [
    "analogies = download_analogies('./data/', 'questions-words.txt', 'https://raw.githubusercontent.com/nicholas-leonard/word2vec/master/questions-words.txt')\n",
    "analogies = get_analogies('./data/', 'questions-words.txt')\n",
    "print(analogies[1:10])"
   ]
  },
  {
   "cell_type": "markdown",
   "metadata": {
    "id": "eY4QrcTJPnF_"
   },
   "source": [
    "## Pré-Processamento de Dados\n",
    "Nesta etapa, todo o texto é transformado numa lista de palavras e colocado em caixa baixa. Além disso, pontuações, números, caractéres especiais e stopwords foram removidas."
   ]
  },
  {
   "cell_type": "markdown",
   "metadata": {
    "id": "BrxKfQ90utCg"
   },
   "source": [
    "#### Texto convertido para caixa baixa:"
   ]
  },
  {
   "cell_type": "code",
   "execution_count": 6,
   "metadata": {
    "colab": {
     "base_uri": "https://localhost:8080/"
    },
    "id": "PAuJ_NdFqZzM",
    "outputId": "313a8a30-77c7-40df-ce7c-74678c6b3026"
   },
   "outputs": [
    {
     "name": "stdout",
     "output_type": "stream",
     "text": [
      " anarchism originated as a term of abuse first used against early working class radicals including the diggers of the english revolution and the sans culottes of the french revolution whilst the term \n"
     ]
    }
   ],
   "source": [
    "corpus = corpus.lower()\n",
    "print(corpus[:200])"
   ]
  },
  {
   "cell_type": "markdown",
   "metadata": {
    "id": "fWQIah1iuzW7"
   },
   "source": [
    "#### Texto transformado em uma lista de palavras utilizando a biblioteca **NLTK**:"
   ]
  },
  {
   "cell_type": "code",
   "execution_count": 7,
   "metadata": {
    "colab": {
     "base_uri": "https://localhost:8080/"
    },
    "id": "f4Sgo6Hll08F",
    "outputId": "47efda13-edae-4743-8854-e1561eadfd95"
   },
   "outputs": [
    {
     "data": {
      "text/plain": [
       "['anarchism',\n",
       " 'originated',\n",
       " 'as',\n",
       " 'a',\n",
       " 'term',\n",
       " 'of',\n",
       " 'abuse',\n",
       " 'first',\n",
       " 'used',\n",
       " 'against']"
      ]
     },
     "execution_count": 7,
     "metadata": {},
     "output_type": "execute_result"
    }
   ],
   "source": [
    "sentences = list(itertools.islice(Text8Corpus('./data/' + \"text8\"),None))\n",
    "sentences[0][:10]"
   ]
  },
  {
   "cell_type": "markdown",
   "metadata": {
    "id": "wlFTqMQfvKh5"
   },
   "source": [
    "#### Stopwords, obtidas pelo pacote **NLTK**, foram retiradas do texto:"
   ]
  },
  {
   "cell_type": "code",
   "execution_count": 8,
   "metadata": {
    "colab": {
     "base_uri": "https://localhost:8080/"
    },
    "id": "YLzepQjzPIyM",
    "outputId": "2dd8ef1b-59b9-4c69-e92b-f39b6b4e0973"
   },
   "outputs": [
    {
     "data": {
      "text/plain": [
       "['anarchism',\n",
       " 'originated',\n",
       " 'term',\n",
       " 'abuse',\n",
       " 'first',\n",
       " 'used',\n",
       " 'early',\n",
       " 'working',\n",
       " 'class',\n",
       " 'radicals']"
      ]
     },
     "execution_count": 8,
     "metadata": {},
     "output_type": "execute_result"
    }
   ],
   "source": [
    "def remove_stopwords(sentences):\n",
    "\n",
    "    all_sentences = []\n",
    "    count_words = []\n",
    "    stop_words = set(stopwords.words('english'))\n",
    "    \n",
    "    for sentence in sentences:\n",
    "        new_sentence = []\n",
    "        for word in sentence:\n",
    "            if not word in stop_words:\n",
    "                new_sentence.append(word)\n",
    "        all_sentences.append(new_sentence)\n",
    "\n",
    "    return all_sentences\n",
    "\n",
    "filtered_sentences = remove_stopwords(sentences)\n",
    "filtered_sentences[0][:10]"
   ]
  },
  {
   "cell_type": "markdown",
   "metadata": {
    "id": "9mXMX5b_sEyb"
   },
   "source": [
    "## Treinamento dos Modelos\n",
    "Em seguida por intermédio da biblioteca gensim os modelos *Continuous Bag of Words* e *Skip-Gram* foram treinados. Como hiperparâmetros dos modelos é interessante destacar os seguintes atributos:\n",
    "#### Parâmetros fixos\n",
    "\n",
    "*   epochs = 10\n",
    "*   min_count = 2\n",
    "*   report_delay = 1\n",
    "*   alpha(learning_rate) = 0.01\n",
    "\n",
    "#### Parâmetros que foram variados\n",
    "*   vector_size: define a dimensão dos embeddings\n",
    "*   window: define o tamanho do contexto a ser analizado, ou seja a distância máxima entre a palavra atual e a palavra predita.\n",
    "*   total_words: Quantidade de palavras utilizadas no treinamento  \n",
    "*   sg: O algoritmo de treinamento, pode ser tanto o *Continuous Bag of Words*, codificado como 0, ou o *Skip-Gram*, codificado como 1.\n",
    "\n"
   ]
  },
  {
   "cell_type": "code",
   "execution_count": 9,
   "metadata": {},
   "outputs": [
    {
     "name": "stdout",
     "output_type": "stream",
     "text": [
      "[[50, 3, 1531], [50, 3, 3062], [50, 3, 6125], [50, 6, 1531], [50, 6, 3062], [50, 6, 6125], [50, 10, 1531], [50, 10, 3062], [50, 10, 6125], [100, 3, 1531], [100, 3, 3062], [100, 3, 6125], [100, 6, 1531], [100, 6, 3062], [100, 6, 6125], [100, 10, 1531], [100, 10, 3062], [100, 10, 6125], [300, 3, 1531], [300, 3, 3062], [300, 3, 6125], [300, 6, 1531], [300, 6, 3062], [300, 6, 6125], [300, 10, 1531], [300, 10, 3062], [300, 10, 6125]]\n"
     ]
    }
   ],
   "source": [
    "def get_params(vector_size, window, total_words):\n",
    "    return [list(i) for i in product(vector_size, window, total_words)]\n",
    "\n",
    "params = get_params(vector_size = [50, 100, 300], window = [3, 6, 10], \n",
    "           total_words=[int(len(filtered_sentences[0])/4), int(len(filtered_sentences[0])/2), int(len(filtered_sentences[0]))])\n",
    "print(params)"
   ]
  },
  {
   "cell_type": "markdown",
   "metadata": {},
   "source": [
    "#### Função de treinamento dos modelos:\n",
    "Recebe como parâmetro a dimensão dos embeddings, a janela (ou seja a distância de palavras analisadas), a quantidade de palavras analisadas e o algoritmo (*Skip-Gram* ou *Continuous Bag of Words*)"
   ]
  },
  {
   "cell_type": "code",
   "execution_count": 10,
   "metadata": {
    "id": "fkF1YC2Br8cm"
   },
   "outputs": [],
   "source": [
    "def train_model(vector_size, window, total_sentences, algorithm_name):\n",
    "    \n",
    "    algorithm = 1 if \"skipgram\" else 0\n",
    "    file_name = \"./models/{}/vector_size_{}_window_{}_total_sentences_{}.sav\".format(algorithm_name, vector_size, window, total_sentences)\n",
    "    \n",
    "    if os.path.isfile(file_name):\n",
    "        print(\"Modelo com os parâmetros passados já existe em \", file_name)\n",
    "    else:\n",
    "        print(\"Modelo com os seguintes parâmetros será treinado:\")\n",
    "        print(\"Dimensão do vetor: {} \\nWindow: {} \\nQuantidade de Sentenças: {}\\n\".format(vector_size, window, total_sentences))\n",
    "        \n",
    "        t = time()\n",
    "        skip_gram = Word2Vec(filtered_sentences, vector_size=vector_size, sg=algorithm, window=window, min_count=2, alpha=0.01)\n",
    "        print('Tempo para construir vocabulario: {} mins'.format(round((time() - t) / 60, 2)))\n",
    "        \n",
    "        t = time()\n",
    "        skip_gram.train(filtered_sentences, total_examples = total_sentences, epochs=12, report_delay=1)\n",
    "        print('Tempo para treinar o modelo: {} mins'.format(round((time() - t) / 60, 2)))\n",
    "\n",
    "        skip_gram.save(file_name)\n",
    "        print(\"Model saved in\", file_name)\n",
    "        \n",
    "        print(\"-----------------------------------------------------------------------------------------------------------\")"
   ]
  },
  {
   "cell_type": "markdown",
   "metadata": {
    "id": "0jWDmetkuyMt"
   },
   "source": [
    "### Treinamento do *Skip-Gram*"
   ]
  },
  {
   "cell_type": "code",
   "execution_count": 11,
   "metadata": {
    "colab": {
     "base_uri": "https://localhost:8080/"
    },
    "id": "HcoAnVUXGWqm",
    "outputId": "ce2a8ac7-1c87-4d96-e74c-5e72fd04b605"
   },
   "outputs": [
    {
     "name": "stdout",
     "output_type": "stream",
     "text": [
      "Modelo com os parâmetros passados já existe em  ./models/skipgram/vector_size_50_window_3_total_sentences_1531.sav\n",
      "Modelo com os parâmetros passados já existe em  ./models/skipgram/vector_size_50_window_3_total_sentences_3062.sav\n",
      "Modelo com os parâmetros passados já existe em  ./models/skipgram/vector_size_50_window_3_total_sentences_6125.sav\n",
      "Modelo com os parâmetros passados já existe em  ./models/skipgram/vector_size_50_window_6_total_sentences_1531.sav\n",
      "Modelo com os parâmetros passados já existe em  ./models/skipgram/vector_size_50_window_6_total_sentences_3062.sav\n",
      "Modelo com os parâmetros passados já existe em  ./models/skipgram/vector_size_50_window_6_total_sentences_6125.sav\n",
      "Modelo com os parâmetros passados já existe em  ./models/skipgram/vector_size_50_window_10_total_sentences_1531.sav\n",
      "Modelo com os parâmetros passados já existe em  ./models/skipgram/vector_size_50_window_10_total_sentences_3062.sav\n",
      "Modelo com os parâmetros passados já existe em  ./models/skipgram/vector_size_50_window_10_total_sentences_6125.sav\n",
      "Modelo com os parâmetros passados já existe em  ./models/skipgram/vector_size_100_window_3_total_sentences_1531.sav\n",
      "Modelo com os parâmetros passados já existe em  ./models/skipgram/vector_size_100_window_3_total_sentences_3062.sav\n",
      "Modelo com os parâmetros passados já existe em  ./models/skipgram/vector_size_100_window_3_total_sentences_6125.sav\n",
      "Modelo com os parâmetros passados já existe em  ./models/skipgram/vector_size_100_window_6_total_sentences_1531.sav\n",
      "Modelo com os parâmetros passados já existe em  ./models/skipgram/vector_size_100_window_6_total_sentences_3062.sav\n",
      "Modelo com os parâmetros passados já existe em  ./models/skipgram/vector_size_100_window_6_total_sentences_6125.sav\n",
      "Modelo com os parâmetros passados já existe em  ./models/skipgram/vector_size_100_window_10_total_sentences_1531.sav\n",
      "Modelo com os parâmetros passados já existe em  ./models/skipgram/vector_size_100_window_10_total_sentences_3062.sav\n",
      "Modelo com os parâmetros passados já existe em  ./models/skipgram/vector_size_100_window_10_total_sentences_6125.sav\n",
      "Modelo com os parâmetros passados já existe em  ./models/skipgram/vector_size_300_window_3_total_sentences_1531.sav\n",
      "Modelo com os parâmetros passados já existe em  ./models/skipgram/vector_size_300_window_3_total_sentences_3062.sav\n",
      "Modelo com os parâmetros passados já existe em  ./models/skipgram/vector_size_300_window_3_total_sentences_6125.sav\n",
      "Modelo com os parâmetros passados já existe em  ./models/skipgram/vector_size_300_window_6_total_sentences_1531.sav\n",
      "Modelo com os parâmetros passados já existe em  ./models/skipgram/vector_size_300_window_6_total_sentences_3062.sav\n",
      "Modelo com os parâmetros passados já existe em  ./models/skipgram/vector_size_300_window_6_total_sentences_6125.sav\n",
      "Modelo com os parâmetros passados já existe em  ./models/skipgram/vector_size_300_window_10_total_sentences_1531.sav\n",
      "Modelo com os parâmetros passados já existe em  ./models/skipgram/vector_size_300_window_10_total_sentences_3062.sav\n",
      "Modelo com os parâmetros passados já existe em  ./models/skipgram/vector_size_300_window_10_total_sentences_6125.sav\n"
     ]
    }
   ],
   "source": [
    "for combinations in params:\n",
    "    train_model(vector_size=combinations[0], window=combinations[1], total_sentences=combinations[2], algorithm_name=\"skipgram\")"
   ]
  },
  {
   "cell_type": "markdown",
   "metadata": {},
   "source": [
    "### Treinamento do *Continuous Bag of Words*"
   ]
  },
  {
   "cell_type": "code",
   "execution_count": 12,
   "metadata": {
    "colab": {
     "base_uri": "https://localhost:8080/"
    },
    "id": "yWJvgcqW9Djp",
    "outputId": "a63284d6-b382-4027-af99-beb408897eb2"
   },
   "outputs": [
    {
     "name": "stdout",
     "output_type": "stream",
     "text": [
      "Modelo com os parâmetros passados já existe em  ./models/cbow/vector_size_50_window_3_total_sentences_1531.sav\n",
      "Modelo com os parâmetros passados já existe em  ./models/cbow/vector_size_50_window_3_total_sentences_3062.sav\n",
      "Modelo com os parâmetros passados já existe em  ./models/cbow/vector_size_50_window_3_total_sentences_6125.sav\n",
      "Modelo com os parâmetros passados já existe em  ./models/cbow/vector_size_50_window_6_total_sentences_1531.sav\n",
      "Modelo com os parâmetros passados já existe em  ./models/cbow/vector_size_50_window_6_total_sentences_3062.sav\n",
      "Modelo com os parâmetros passados já existe em  ./models/cbow/vector_size_50_window_6_total_sentences_6125.sav\n",
      "Modelo com os parâmetros passados já existe em  ./models/cbow/vector_size_50_window_10_total_sentences_1531.sav\n",
      "Modelo com os parâmetros passados já existe em  ./models/cbow/vector_size_50_window_10_total_sentences_3062.sav\n",
      "Modelo com os parâmetros passados já existe em  ./models/cbow/vector_size_50_window_10_total_sentences_6125.sav\n",
      "Modelo com os parâmetros passados já existe em  ./models/cbow/vector_size_100_window_3_total_sentences_1531.sav\n",
      "Modelo com os parâmetros passados já existe em  ./models/cbow/vector_size_100_window_3_total_sentences_3062.sav\n",
      "Modelo com os parâmetros passados já existe em  ./models/cbow/vector_size_100_window_3_total_sentences_6125.sav\n",
      "Modelo com os parâmetros passados já existe em  ./models/cbow/vector_size_100_window_6_total_sentences_1531.sav\n",
      "Modelo com os parâmetros passados já existe em  ./models/cbow/vector_size_100_window_6_total_sentences_3062.sav\n",
      "Modelo com os parâmetros passados já existe em  ./models/cbow/vector_size_100_window_6_total_sentences_6125.sav\n",
      "Modelo com os parâmetros passados já existe em  ./models/cbow/vector_size_100_window_10_total_sentences_1531.sav\n",
      "Modelo com os parâmetros passados já existe em  ./models/cbow/vector_size_100_window_10_total_sentences_3062.sav\n",
      "Modelo com os parâmetros passados já existe em  ./models/cbow/vector_size_100_window_10_total_sentences_6125.sav\n",
      "Modelo com os parâmetros passados já existe em  ./models/cbow/vector_size_300_window_3_total_sentences_1531.sav\n",
      "Modelo com os parâmetros passados já existe em  ./models/cbow/vector_size_300_window_3_total_sentences_3062.sav\n",
      "Modelo com os parâmetros passados já existe em  ./models/cbow/vector_size_300_window_3_total_sentences_6125.sav\n",
      "Modelo com os parâmetros passados já existe em  ./models/cbow/vector_size_300_window_6_total_sentences_1531.sav\n",
      "Modelo com os parâmetros passados já existe em  ./models/cbow/vector_size_300_window_6_total_sentences_3062.sav\n",
      "Modelo com os parâmetros passados já existe em  ./models/cbow/vector_size_300_window_6_total_sentences_6125.sav\n",
      "Modelo com os parâmetros passados já existe em  ./models/cbow/vector_size_300_window_10_total_sentences_1531.sav\n",
      "Modelo com os parâmetros passados já existe em  ./models/cbow/vector_size_300_window_10_total_sentences_3062.sav\n",
      "Modelo com os parâmetros passados já existe em  ./models/cbow/vector_size_300_window_10_total_sentences_6125.sav\n"
     ]
    }
   ],
   "source": [
    "for combinations in params:\n",
    "    train_model(vector_size=combinations[0], window=combinations[1], total_sentences=combinations[2], algorithm_name=\"cbow\")"
   ]
  },
  {
   "cell_type": "markdown",
   "metadata": {},
   "source": [
    "## Validação dos modelos\n",
    "\n",
    "Para a validação dos modelos o arquivo *question-words.txt* disponibilizado pelo Professor foi utilizado. Por intermédio da função **most_similar** da biblioteca gensim, é passado como parâmetro três das quatro palavras de cada analogia do arquivo txt e é verificado se a função do modelo retorna a quarta palavra desta. Essa verificação foi realizada para todas as permutações de hiperparametros propostas para ambos os algoritmos *Skip-Gram* e *Continuous Bag of Words* e seus resultados, que foram salvos nos arquivos *cbow_accuracy.csv* e *skipgram_accuracy.csv* podem ser vistos abaixo."
   ]
  },
  {
   "cell_type": "markdown",
   "metadata": {},
   "source": [
    "#### Função que recebe como parâmetros um modelo pré-treinado e três palavras e retorna a analogia"
   ]
  },
  {
   "cell_type": "code",
   "execution_count": 13,
   "metadata": {},
   "outputs": [],
   "source": [
    "def get_analogy(model, x1, x2, y1):\n",
    "    \n",
    "    try:\n",
    "        return model.wv.most_similar(positive=[y1, x2], negative=[x1], topn=1)[0][0]\n",
    "    \n",
    "    except KeyError:\n",
    "#         print(x1, \"não estava presente no corpus de entrada\")\n",
    "        return ' '"
   ]
  },
  {
   "cell_type": "markdown",
   "metadata": {},
   "source": [
    "#### Função que itera sobre todas as analogias em question-words.txt verificando se a analogia retornada pelo modelo é a esperada"
   ]
  },
  {
   "cell_type": "code",
   "execution_count": 14,
   "metadata": {},
   "outputs": [],
   "source": [
    "def test_all_analogies(model):\n",
    "    hits = 0\n",
    "    misses = 0\n",
    "    nf = 0\n",
    "    for analogy in analogies:\n",
    "        analogy = analogy.split(' ')\n",
    "        if len(analogy) > 3:\n",
    "            res = get_analogy(model, analogy[0], analogy[1], analogy[2])\n",
    "#            print(\"Resposta do modelo:\", res, \" resposta correta:\", analogy[3])\n",
    "            if res == ' ':          nf += 1\n",
    "            elif analogy[3] == res: hits += 1\n",
    "            else: misses += 1\n",
    "    \n",
    "    return hits, misses, nf"
   ]
  },
  {
   "cell_type": "markdown",
   "metadata": {},
   "source": [
    "#### Função que carrega modelo pré-treinado com base em seus hiperparâmetros"
   ]
  },
  {
   "cell_type": "code",
   "execution_count": 15,
   "metadata": {},
   "outputs": [],
   "source": [
    "def load_model(algorithm_name, vector_size, window, total_sentences):\n",
    "    return Word2Vec.load(\"./models/{}/vector_size_{}_window_{}_total_sentences_{}.sav\".format(algorithm_name, vector_size, window, total_sentences))"
   ]
  },
  {
   "cell_type": "markdown",
   "metadata": {},
   "source": [
    "#### Função que valida os modelos treinados e gera dataframes com a acurácia de cada conjunto de hiperparametros "
   ]
  },
  {
   "cell_type": "code",
   "execution_count": 20,
   "metadata": {},
   "outputs": [],
   "source": [
    "def validate_model(algorithm_name):\n",
    "\n",
    "    \n",
    "    df_accuracy = pd.DataFrame(columns=['dimensão','janela','sentenças','acuracia','acertos','erros', 'nao encontrados'])\n",
    "    for index in range(len(params)):\n",
    "    \n",
    "        set_of_params = params[index]    \n",
    "        model = load_model(algorithm_name, set_of_params[0], set_of_params[1], set_of_params[2])\n",
    "        hits, misses, nf = test_all_analogies(model)\n",
    "        df_accuracy.loc[index] = [set_of_params[0], set_of_params[1], set_of_params[2], hits/(hits+misses+nf), hits, misses, nf]\n",
    "    \n",
    "    df_accuracy.to_csv('./analogy_accuracy/' + algorithm_name +'_accuracy.csv', index=False)\n",
    "    return df_accuracy"
   ]
  },
  {
   "cell_type": "markdown",
   "metadata": {},
   "source": [
    "### Validação *Skip-Gram*"
   ]
  },
  {
   "cell_type": "code",
   "execution_count": 21,
   "metadata": {},
   "outputs": [
    {
     "name": "stdout",
     "output_type": "stream",
     "text": [
      "    dimensão  janela  sentenças  acuracia  acertos    erros  nao encontrados\n",
      "0       50.0     3.0     1531.0  0.210346   4111.0  14565.0            868.0\n",
      "1       50.0     3.0     3062.0  0.214286   4188.0  14488.0            868.0\n",
      "2       50.0     3.0     6125.0  0.214951   4201.0  14475.0            868.0\n",
      "3       50.0     6.0     1531.0  0.230506   4505.0  14171.0            868.0\n",
      "4       50.0     6.0     3062.0  0.243451   4758.0  13918.0            868.0\n",
      "5       50.0     6.0     6125.0  0.240739   4705.0  13971.0            868.0\n",
      "6       50.0    10.0     1531.0  0.237720   4646.0  14030.0            868.0\n",
      "7       50.0    10.0     3062.0  0.233934   4572.0  14104.0            868.0\n",
      "8       50.0    10.0     6125.0  0.234599   4585.0  14091.0            868.0\n",
      "9      100.0     3.0     1531.0  0.246623   4820.0  13856.0            868.0\n",
      "10     100.0     3.0     3062.0  0.248926   4865.0  13811.0            868.0\n",
      "11     100.0     3.0     6125.0  0.253684   4958.0  13718.0            868.0\n",
      "12     100.0     6.0     1531.0  0.283309   5537.0  13139.0            868.0\n",
      "13     100.0     6.0     3062.0  0.285407   5578.0  13098.0            868.0\n",
      "14     100.0     6.0     6125.0  0.280853   5489.0  13187.0            868.0\n",
      "15     100.0    10.0     1531.0  0.298762   5839.0  12837.0            868.0\n",
      "16     100.0    10.0     3062.0  0.292826   5723.0  12953.0            868.0\n",
      "17     100.0    10.0     6125.0  0.290677   5681.0  12995.0            868.0\n",
      "18     300.0     3.0     1531.0  0.237260   4637.0  14039.0            868.0\n",
      "19     300.0     3.0     3062.0  0.239204   4675.0  14001.0            868.0\n",
      "20     300.0     3.0     6125.0  0.232910   4552.0  14124.0            868.0\n",
      "21     300.0     6.0     1531.0  0.274560   5366.0  13310.0            868.0\n",
      "22     300.0     6.0     3062.0  0.268676   5251.0  13425.0            868.0\n",
      "23     300.0     6.0     6125.0  0.269187   5261.0  13415.0            868.0\n",
      "24     300.0    10.0     1531.0  0.290268   5673.0  13003.0            868.0\n",
      "25     300.0    10.0     3062.0  0.294822   5762.0  12914.0            868.0\n",
      "26     300.0    10.0     6125.0  0.293082   5728.0  12948.0            868.0\n"
     ]
    }
   ],
   "source": [
    "analogies = get_analogies('./data/', 'questions-words.txt')\n",
    "file_name = \"./analogy_accuracy/skipgram_accuracy.csv\"\n",
    "    \n",
    "if os.path.isfile(file_name):\n",
    "    acc = pd.read_csv(file_name)\n",
    "    print(acc)\n",
    "else:\n",
    "    validate_model(\"skipgram\")"
   ]
  },
  {
   "cell_type": "markdown",
   "metadata": {},
   "source": [
    "### Validação *Continuous Bag of Words*"
   ]
  },
  {
   "cell_type": "code",
   "execution_count": 24,
   "metadata": {},
   "outputs": [
    {
     "name": "stdout",
     "output_type": "stream",
     "text": [
      "    dimensão  janela  sentenças  acuracia  acertos    erros  nao encontrados\n",
      "0       50.0     3.0     1531.0  0.209783   4100.0  14576.0            868.0\n",
      "1       50.0     3.0     3062.0  0.209374   4092.0  14584.0            868.0\n",
      "2       50.0     3.0     6125.0  0.208299   4071.0  14605.0            868.0\n",
      "3       50.0     6.0     1531.0  0.241711   4724.0  13952.0            868.0\n",
      "4       50.0     6.0     3062.0  0.239613   4683.0  13993.0            868.0\n",
      "5       50.0     6.0     6125.0  0.233780   4569.0  14107.0            868.0\n",
      "6       50.0    10.0     1531.0  0.237515   4642.0  14034.0            868.0\n",
      "7       50.0    10.0     3062.0  0.238692   4665.0  14011.0            868.0\n",
      "8       50.0    10.0     6125.0  0.233627   4566.0  14110.0            868.0\n",
      "9      100.0     3.0     1531.0  0.246674   4821.0  13855.0            868.0\n",
      "10     100.0     3.0     3062.0  0.244269   4774.0  13902.0            868.0\n",
      "11     100.0     3.0     6125.0  0.247595   4839.0  13837.0            868.0\n",
      "12     100.0     6.0     1531.0  0.281928   5510.0  13166.0            868.0\n",
      "13     100.0     6.0     3062.0  0.283156   5534.0  13142.0            868.0\n",
      "14     100.0     6.0     6125.0  0.285765   5585.0  13091.0            868.0\n",
      "15     100.0    10.0     1531.0  0.295641   5778.0  12898.0            868.0\n",
      "16     100.0    10.0     3062.0  0.288631   5641.0  13035.0            868.0\n",
      "17     100.0    10.0     6125.0  0.289142   5651.0  13025.0            868.0\n",
      "18     300.0     3.0     1531.0  0.236646   4625.0  14051.0            868.0\n",
      "19     300.0     3.0     3062.0  0.237925   4650.0  14026.0            868.0\n",
      "20     300.0     3.0     6125.0  0.234599   4585.0  14091.0            868.0\n",
      "21     300.0     6.0     1531.0  0.271490   5306.0  13370.0            868.0\n",
      "22     300.0     6.0     3062.0  0.269699   5271.0  13405.0            868.0\n",
      "23     300.0     6.0     6125.0  0.275123   5377.0  13299.0            868.0\n",
      "24     300.0    10.0     1531.0  0.288580   5640.0  13036.0            868.0\n",
      "25     300.0    10.0     3062.0  0.296869   5802.0  12874.0            868.0\n",
      "26     300.0    10.0     6125.0  0.290012   5668.0  13008.0            868.0\n"
     ]
    }
   ],
   "source": [
    "analogies = get_analogies('./data/', 'questions-words.txt')\n",
    "file_name = \"./analogy_accuracy/cbow_accuracy.csv\"\n",
    "    \n",
    "if os.path.isfile(file_name):\n",
    "    acc = pd.read_csv(file_name)\n",
    "else:\n",
    "    acc = validate_model(\"cbow\")\n",
    "print(acc)"
   ]
  },
  {
   "cell_type": "code",
   "execution_count": 39,
   "metadata": {},
   "outputs": [],
   "source": [
    "\n",
    "def plot_corpus_usage_variation(df):\n",
    "\n",
    "    fig = make_subplots(rows=4, cols=3)    \n",
    "    \n",
    "    for hp in params:\n",
    "\n",
    "    aux = df.loc[(df['dimensão'] == 50) & (df['janela'] == 3)]\n",
    "    fig.add_trace(go.Scatter(x=aux['sentenças'], y=aux['acuracia'], mode='lines',name=''), row=1, col=1)\n",
    "\n",
    "    aux = df.loc[(df['dimensão'] == 50) & (df['janela'] == 6)]\n",
    "    fig.add_trace(go.Scatter(x=aux['sentenças'], y=aux['acuracia'], mode='lines',name=''), row=1, col=1)\n",
    "    \n",
    "    aux = df.loc[(df['dimensão'] == 50) & (df['janela'] == 10)]\n",
    "    fig.add_trace(go.Scatter(x=aux['sentenças'], y=aux['acuracia'], mode='lines',name=''), row=1, col=1)\n",
    "    \n",
    "    fig.update_layout(height=800, width=1600, title_text=\"Acurácia x Total Examples\")\n",
    "    fig.show()"
   ]
  },
  {
   "cell_type": "code",
   "execution_count": 40,
   "metadata": {},
   "outputs": [
    {
     "data": {
      "application/vnd.plotly.v1+json": {
       "config": {
        "plotlyServerURL": "https://plot.ly"
       },
       "data": [
        {
         "mode": "lines",
         "name": "",
         "type": "scatter",
         "x": [
          1531,
          3062,
          6125
         ],
         "xaxis": "x",
         "y": [
          0.2097830536225951,
          0.2093737208350388,
          0.2082992222677036
         ],
         "yaxis": "y"
        }
       ],
       "layout": {
        "height": 800,
        "template": {
         "data": {
          "bar": [
           {
            "error_x": {
             "color": "#2a3f5f"
            },
            "error_y": {
             "color": "#2a3f5f"
            },
            "marker": {
             "line": {
              "color": "#E5ECF6",
              "width": 0.5
             },
             "pattern": {
              "fillmode": "overlay",
              "size": 10,
              "solidity": 0.2
             }
            },
            "type": "bar"
           }
          ],
          "barpolar": [
           {
            "marker": {
             "line": {
              "color": "#E5ECF6",
              "width": 0.5
             },
             "pattern": {
              "fillmode": "overlay",
              "size": 10,
              "solidity": 0.2
             }
            },
            "type": "barpolar"
           }
          ],
          "carpet": [
           {
            "aaxis": {
             "endlinecolor": "#2a3f5f",
             "gridcolor": "white",
             "linecolor": "white",
             "minorgridcolor": "white",
             "startlinecolor": "#2a3f5f"
            },
            "baxis": {
             "endlinecolor": "#2a3f5f",
             "gridcolor": "white",
             "linecolor": "white",
             "minorgridcolor": "white",
             "startlinecolor": "#2a3f5f"
            },
            "type": "carpet"
           }
          ],
          "choropleth": [
           {
            "colorbar": {
             "outlinewidth": 0,
             "ticks": ""
            },
            "type": "choropleth"
           }
          ],
          "contour": [
           {
            "colorbar": {
             "outlinewidth": 0,
             "ticks": ""
            },
            "colorscale": [
             [
              0,
              "#0d0887"
             ],
             [
              0.1111111111111111,
              "#46039f"
             ],
             [
              0.2222222222222222,
              "#7201a8"
             ],
             [
              0.3333333333333333,
              "#9c179e"
             ],
             [
              0.4444444444444444,
              "#bd3786"
             ],
             [
              0.5555555555555556,
              "#d8576b"
             ],
             [
              0.6666666666666666,
              "#ed7953"
             ],
             [
              0.7777777777777778,
              "#fb9f3a"
             ],
             [
              0.8888888888888888,
              "#fdca26"
             ],
             [
              1,
              "#f0f921"
             ]
            ],
            "type": "contour"
           }
          ],
          "contourcarpet": [
           {
            "colorbar": {
             "outlinewidth": 0,
             "ticks": ""
            },
            "type": "contourcarpet"
           }
          ],
          "heatmap": [
           {
            "colorbar": {
             "outlinewidth": 0,
             "ticks": ""
            },
            "colorscale": [
             [
              0,
              "#0d0887"
             ],
             [
              0.1111111111111111,
              "#46039f"
             ],
             [
              0.2222222222222222,
              "#7201a8"
             ],
             [
              0.3333333333333333,
              "#9c179e"
             ],
             [
              0.4444444444444444,
              "#bd3786"
             ],
             [
              0.5555555555555556,
              "#d8576b"
             ],
             [
              0.6666666666666666,
              "#ed7953"
             ],
             [
              0.7777777777777778,
              "#fb9f3a"
             ],
             [
              0.8888888888888888,
              "#fdca26"
             ],
             [
              1,
              "#f0f921"
             ]
            ],
            "type": "heatmap"
           }
          ],
          "heatmapgl": [
           {
            "colorbar": {
             "outlinewidth": 0,
             "ticks": ""
            },
            "colorscale": [
             [
              0,
              "#0d0887"
             ],
             [
              0.1111111111111111,
              "#46039f"
             ],
             [
              0.2222222222222222,
              "#7201a8"
             ],
             [
              0.3333333333333333,
              "#9c179e"
             ],
             [
              0.4444444444444444,
              "#bd3786"
             ],
             [
              0.5555555555555556,
              "#d8576b"
             ],
             [
              0.6666666666666666,
              "#ed7953"
             ],
             [
              0.7777777777777778,
              "#fb9f3a"
             ],
             [
              0.8888888888888888,
              "#fdca26"
             ],
             [
              1,
              "#f0f921"
             ]
            ],
            "type": "heatmapgl"
           }
          ],
          "histogram": [
           {
            "marker": {
             "pattern": {
              "fillmode": "overlay",
              "size": 10,
              "solidity": 0.2
             }
            },
            "type": "histogram"
           }
          ],
          "histogram2d": [
           {
            "colorbar": {
             "outlinewidth": 0,
             "ticks": ""
            },
            "colorscale": [
             [
              0,
              "#0d0887"
             ],
             [
              0.1111111111111111,
              "#46039f"
             ],
             [
              0.2222222222222222,
              "#7201a8"
             ],
             [
              0.3333333333333333,
              "#9c179e"
             ],
             [
              0.4444444444444444,
              "#bd3786"
             ],
             [
              0.5555555555555556,
              "#d8576b"
             ],
             [
              0.6666666666666666,
              "#ed7953"
             ],
             [
              0.7777777777777778,
              "#fb9f3a"
             ],
             [
              0.8888888888888888,
              "#fdca26"
             ],
             [
              1,
              "#f0f921"
             ]
            ],
            "type": "histogram2d"
           }
          ],
          "histogram2dcontour": [
           {
            "colorbar": {
             "outlinewidth": 0,
             "ticks": ""
            },
            "colorscale": [
             [
              0,
              "#0d0887"
             ],
             [
              0.1111111111111111,
              "#46039f"
             ],
             [
              0.2222222222222222,
              "#7201a8"
             ],
             [
              0.3333333333333333,
              "#9c179e"
             ],
             [
              0.4444444444444444,
              "#bd3786"
             ],
             [
              0.5555555555555556,
              "#d8576b"
             ],
             [
              0.6666666666666666,
              "#ed7953"
             ],
             [
              0.7777777777777778,
              "#fb9f3a"
             ],
             [
              0.8888888888888888,
              "#fdca26"
             ],
             [
              1,
              "#f0f921"
             ]
            ],
            "type": "histogram2dcontour"
           }
          ],
          "mesh3d": [
           {
            "colorbar": {
             "outlinewidth": 0,
             "ticks": ""
            },
            "type": "mesh3d"
           }
          ],
          "parcoords": [
           {
            "line": {
             "colorbar": {
              "outlinewidth": 0,
              "ticks": ""
             }
            },
            "type": "parcoords"
           }
          ],
          "pie": [
           {
            "automargin": true,
            "type": "pie"
           }
          ],
          "scatter": [
           {
            "marker": {
             "colorbar": {
              "outlinewidth": 0,
              "ticks": ""
             }
            },
            "type": "scatter"
           }
          ],
          "scatter3d": [
           {
            "line": {
             "colorbar": {
              "outlinewidth": 0,
              "ticks": ""
             }
            },
            "marker": {
             "colorbar": {
              "outlinewidth": 0,
              "ticks": ""
             }
            },
            "type": "scatter3d"
           }
          ],
          "scattercarpet": [
           {
            "marker": {
             "colorbar": {
              "outlinewidth": 0,
              "ticks": ""
             }
            },
            "type": "scattercarpet"
           }
          ],
          "scattergeo": [
           {
            "marker": {
             "colorbar": {
              "outlinewidth": 0,
              "ticks": ""
             }
            },
            "type": "scattergeo"
           }
          ],
          "scattergl": [
           {
            "marker": {
             "colorbar": {
              "outlinewidth": 0,
              "ticks": ""
             }
            },
            "type": "scattergl"
           }
          ],
          "scattermapbox": [
           {
            "marker": {
             "colorbar": {
              "outlinewidth": 0,
              "ticks": ""
             }
            },
            "type": "scattermapbox"
           }
          ],
          "scatterpolar": [
           {
            "marker": {
             "colorbar": {
              "outlinewidth": 0,
              "ticks": ""
             }
            },
            "type": "scatterpolar"
           }
          ],
          "scatterpolargl": [
           {
            "marker": {
             "colorbar": {
              "outlinewidth": 0,
              "ticks": ""
             }
            },
            "type": "scatterpolargl"
           }
          ],
          "scatterternary": [
           {
            "marker": {
             "colorbar": {
              "outlinewidth": 0,
              "ticks": ""
             }
            },
            "type": "scatterternary"
           }
          ],
          "surface": [
           {
            "colorbar": {
             "outlinewidth": 0,
             "ticks": ""
            },
            "colorscale": [
             [
              0,
              "#0d0887"
             ],
             [
              0.1111111111111111,
              "#46039f"
             ],
             [
              0.2222222222222222,
              "#7201a8"
             ],
             [
              0.3333333333333333,
              "#9c179e"
             ],
             [
              0.4444444444444444,
              "#bd3786"
             ],
             [
              0.5555555555555556,
              "#d8576b"
             ],
             [
              0.6666666666666666,
              "#ed7953"
             ],
             [
              0.7777777777777778,
              "#fb9f3a"
             ],
             [
              0.8888888888888888,
              "#fdca26"
             ],
             [
              1,
              "#f0f921"
             ]
            ],
            "type": "surface"
           }
          ],
          "table": [
           {
            "cells": {
             "fill": {
              "color": "#EBF0F8"
             },
             "line": {
              "color": "white"
             }
            },
            "header": {
             "fill": {
              "color": "#C8D4E3"
             },
             "line": {
              "color": "white"
             }
            },
            "type": "table"
           }
          ]
         },
         "layout": {
          "annotationdefaults": {
           "arrowcolor": "#2a3f5f",
           "arrowhead": 0,
           "arrowwidth": 1
          },
          "autotypenumbers": "strict",
          "coloraxis": {
           "colorbar": {
            "outlinewidth": 0,
            "ticks": ""
           }
          },
          "colorscale": {
           "diverging": [
            [
             0,
             "#8e0152"
            ],
            [
             0.1,
             "#c51b7d"
            ],
            [
             0.2,
             "#de77ae"
            ],
            [
             0.3,
             "#f1b6da"
            ],
            [
             0.4,
             "#fde0ef"
            ],
            [
             0.5,
             "#f7f7f7"
            ],
            [
             0.6,
             "#e6f5d0"
            ],
            [
             0.7,
             "#b8e186"
            ],
            [
             0.8,
             "#7fbc41"
            ],
            [
             0.9,
             "#4d9221"
            ],
            [
             1,
             "#276419"
            ]
           ],
           "sequential": [
            [
             0,
             "#0d0887"
            ],
            [
             0.1111111111111111,
             "#46039f"
            ],
            [
             0.2222222222222222,
             "#7201a8"
            ],
            [
             0.3333333333333333,
             "#9c179e"
            ],
            [
             0.4444444444444444,
             "#bd3786"
            ],
            [
             0.5555555555555556,
             "#d8576b"
            ],
            [
             0.6666666666666666,
             "#ed7953"
            ],
            [
             0.7777777777777778,
             "#fb9f3a"
            ],
            [
             0.8888888888888888,
             "#fdca26"
            ],
            [
             1,
             "#f0f921"
            ]
           ],
           "sequentialminus": [
            [
             0,
             "#0d0887"
            ],
            [
             0.1111111111111111,
             "#46039f"
            ],
            [
             0.2222222222222222,
             "#7201a8"
            ],
            [
             0.3333333333333333,
             "#9c179e"
            ],
            [
             0.4444444444444444,
             "#bd3786"
            ],
            [
             0.5555555555555556,
             "#d8576b"
            ],
            [
             0.6666666666666666,
             "#ed7953"
            ],
            [
             0.7777777777777778,
             "#fb9f3a"
            ],
            [
             0.8888888888888888,
             "#fdca26"
            ],
            [
             1,
             "#f0f921"
            ]
           ]
          },
          "colorway": [
           "#636efa",
           "#EF553B",
           "#00cc96",
           "#ab63fa",
           "#FFA15A",
           "#19d3f3",
           "#FF6692",
           "#B6E880",
           "#FF97FF",
           "#FECB52"
          ],
          "font": {
           "color": "#2a3f5f"
          },
          "geo": {
           "bgcolor": "white",
           "lakecolor": "white",
           "landcolor": "#E5ECF6",
           "showlakes": true,
           "showland": true,
           "subunitcolor": "white"
          },
          "hoverlabel": {
           "align": "left"
          },
          "hovermode": "closest",
          "mapbox": {
           "style": "light"
          },
          "paper_bgcolor": "white",
          "plot_bgcolor": "#E5ECF6",
          "polar": {
           "angularaxis": {
            "gridcolor": "white",
            "linecolor": "white",
            "ticks": ""
           },
           "bgcolor": "#E5ECF6",
           "radialaxis": {
            "gridcolor": "white",
            "linecolor": "white",
            "ticks": ""
           }
          },
          "scene": {
           "xaxis": {
            "backgroundcolor": "#E5ECF6",
            "gridcolor": "white",
            "gridwidth": 2,
            "linecolor": "white",
            "showbackground": true,
            "ticks": "",
            "zerolinecolor": "white"
           },
           "yaxis": {
            "backgroundcolor": "#E5ECF6",
            "gridcolor": "white",
            "gridwidth": 2,
            "linecolor": "white",
            "showbackground": true,
            "ticks": "",
            "zerolinecolor": "white"
           },
           "zaxis": {
            "backgroundcolor": "#E5ECF6",
            "gridcolor": "white",
            "gridwidth": 2,
            "linecolor": "white",
            "showbackground": true,
            "ticks": "",
            "zerolinecolor": "white"
           }
          },
          "shapedefaults": {
           "line": {
            "color": "#2a3f5f"
           }
          },
          "ternary": {
           "aaxis": {
            "gridcolor": "white",
            "linecolor": "white",
            "ticks": ""
           },
           "baxis": {
            "gridcolor": "white",
            "linecolor": "white",
            "ticks": ""
           },
           "bgcolor": "#E5ECF6",
           "caxis": {
            "gridcolor": "white",
            "linecolor": "white",
            "ticks": ""
           }
          },
          "title": {
           "x": 0.05
          },
          "xaxis": {
           "automargin": true,
           "gridcolor": "white",
           "linecolor": "white",
           "ticks": "",
           "title": {
            "standoff": 15
           },
           "zerolinecolor": "white",
           "zerolinewidth": 2
          },
          "yaxis": {
           "automargin": true,
           "gridcolor": "white",
           "linecolor": "white",
           "ticks": "",
           "title": {
            "standoff": 15
           },
           "zerolinecolor": "white",
           "zerolinewidth": 2
          }
         }
        },
        "title": {
         "text": "Acurácia x Total Examples"
        },
        "width": 1600,
        "xaxis": {
         "anchor": "y",
         "domain": [
          0,
          0.2888888888888889
         ]
        },
        "xaxis10": {
         "anchor": "y10",
         "domain": [
          0,
          0.2888888888888889
         ]
        },
        "xaxis11": {
         "anchor": "y11",
         "domain": [
          0.35555555555555557,
          0.6444444444444445
         ]
        },
        "xaxis12": {
         "anchor": "y12",
         "domain": [
          0.7111111111111111,
          1
         ]
        },
        "xaxis2": {
         "anchor": "y2",
         "domain": [
          0.35555555555555557,
          0.6444444444444445
         ]
        },
        "xaxis3": {
         "anchor": "y3",
         "domain": [
          0.7111111111111111,
          1
         ]
        },
        "xaxis4": {
         "anchor": "y4",
         "domain": [
          0,
          0.2888888888888889
         ]
        },
        "xaxis5": {
         "anchor": "y5",
         "domain": [
          0.35555555555555557,
          0.6444444444444445
         ]
        },
        "xaxis6": {
         "anchor": "y6",
         "domain": [
          0.7111111111111111,
          1
         ]
        },
        "xaxis7": {
         "anchor": "y7",
         "domain": [
          0,
          0.2888888888888889
         ]
        },
        "xaxis8": {
         "anchor": "y8",
         "domain": [
          0.35555555555555557,
          0.6444444444444445
         ]
        },
        "xaxis9": {
         "anchor": "y9",
         "domain": [
          0.7111111111111111,
          1
         ]
        },
        "yaxis": {
         "anchor": "x",
         "domain": [
          0.80625,
          1
         ]
        },
        "yaxis10": {
         "anchor": "x10",
         "domain": [
          0,
          0.19375
         ]
        },
        "yaxis11": {
         "anchor": "x11",
         "domain": [
          0,
          0.19375
         ]
        },
        "yaxis12": {
         "anchor": "x12",
         "domain": [
          0,
          0.19375
         ]
        },
        "yaxis2": {
         "anchor": "x2",
         "domain": [
          0.80625,
          1
         ]
        },
        "yaxis3": {
         "anchor": "x3",
         "domain": [
          0.80625,
          1
         ]
        },
        "yaxis4": {
         "anchor": "x4",
         "domain": [
          0.5375,
          0.73125
         ]
        },
        "yaxis5": {
         "anchor": "x5",
         "domain": [
          0.5375,
          0.73125
         ]
        },
        "yaxis6": {
         "anchor": "x6",
         "domain": [
          0.5375,
          0.73125
         ]
        },
        "yaxis7": {
         "anchor": "x7",
         "domain": [
          0.26875,
          0.4625
         ]
        },
        "yaxis8": {
         "anchor": "x8",
         "domain": [
          0.26875,
          0.4625
         ]
        },
        "yaxis9": {
         "anchor": "x9",
         "domain": [
          0.26875,
          0.4625
         ]
        }
       }
      },
      "text/html": [
       "<div>                            <div id=\"7065a613-52c1-4fbf-b93f-043d6089a39d\" class=\"plotly-graph-div\" style=\"height:800px; width:1600px;\"></div>            <script type=\"text/javascript\">                require([\"plotly\"], function(Plotly) {                    window.PLOTLYENV=window.PLOTLYENV || {};                                    if (document.getElementById(\"7065a613-52c1-4fbf-b93f-043d6089a39d\")) {                    Plotly.newPlot(                        \"7065a613-52c1-4fbf-b93f-043d6089a39d\",                        [{\"mode\":\"lines\",\"name\":\"\",\"x\":[1531.0,3062.0,6125.0],\"y\":[0.2097830536225951,0.2093737208350388,0.2082992222677036],\"type\":\"scatter\",\"xaxis\":\"x\",\"yaxis\":\"y\"}],                        {\"template\":{\"data\":{\"bar\":[{\"error_x\":{\"color\":\"#2a3f5f\"},\"error_y\":{\"color\":\"#2a3f5f\"},\"marker\":{\"line\":{\"color\":\"#E5ECF6\",\"width\":0.5},\"pattern\":{\"fillmode\":\"overlay\",\"size\":10,\"solidity\":0.2}},\"type\":\"bar\"}],\"barpolar\":[{\"marker\":{\"line\":{\"color\":\"#E5ECF6\",\"width\":0.5},\"pattern\":{\"fillmode\":\"overlay\",\"size\":10,\"solidity\":0.2}},\"type\":\"barpolar\"}],\"carpet\":[{\"aaxis\":{\"endlinecolor\":\"#2a3f5f\",\"gridcolor\":\"white\",\"linecolor\":\"white\",\"minorgridcolor\":\"white\",\"startlinecolor\":\"#2a3f5f\"},\"baxis\":{\"endlinecolor\":\"#2a3f5f\",\"gridcolor\":\"white\",\"linecolor\":\"white\",\"minorgridcolor\":\"white\",\"startlinecolor\":\"#2a3f5f\"},\"type\":\"carpet\"}],\"choropleth\":[{\"colorbar\":{\"outlinewidth\":0,\"ticks\":\"\"},\"type\":\"choropleth\"}],\"contour\":[{\"colorbar\":{\"outlinewidth\":0,\"ticks\":\"\"},\"colorscale\":[[0.0,\"#0d0887\"],[0.1111111111111111,\"#46039f\"],[0.2222222222222222,\"#7201a8\"],[0.3333333333333333,\"#9c179e\"],[0.4444444444444444,\"#bd3786\"],[0.5555555555555556,\"#d8576b\"],[0.6666666666666666,\"#ed7953\"],[0.7777777777777778,\"#fb9f3a\"],[0.8888888888888888,\"#fdca26\"],[1.0,\"#f0f921\"]],\"type\":\"contour\"}],\"contourcarpet\":[{\"colorbar\":{\"outlinewidth\":0,\"ticks\":\"\"},\"type\":\"contourcarpet\"}],\"heatmap\":[{\"colorbar\":{\"outlinewidth\":0,\"ticks\":\"\"},\"colorscale\":[[0.0,\"#0d0887\"],[0.1111111111111111,\"#46039f\"],[0.2222222222222222,\"#7201a8\"],[0.3333333333333333,\"#9c179e\"],[0.4444444444444444,\"#bd3786\"],[0.5555555555555556,\"#d8576b\"],[0.6666666666666666,\"#ed7953\"],[0.7777777777777778,\"#fb9f3a\"],[0.8888888888888888,\"#fdca26\"],[1.0,\"#f0f921\"]],\"type\":\"heatmap\"}],\"heatmapgl\":[{\"colorbar\":{\"outlinewidth\":0,\"ticks\":\"\"},\"colorscale\":[[0.0,\"#0d0887\"],[0.1111111111111111,\"#46039f\"],[0.2222222222222222,\"#7201a8\"],[0.3333333333333333,\"#9c179e\"],[0.4444444444444444,\"#bd3786\"],[0.5555555555555556,\"#d8576b\"],[0.6666666666666666,\"#ed7953\"],[0.7777777777777778,\"#fb9f3a\"],[0.8888888888888888,\"#fdca26\"],[1.0,\"#f0f921\"]],\"type\":\"heatmapgl\"}],\"histogram\":[{\"marker\":{\"pattern\":{\"fillmode\":\"overlay\",\"size\":10,\"solidity\":0.2}},\"type\":\"histogram\"}],\"histogram2d\":[{\"colorbar\":{\"outlinewidth\":0,\"ticks\":\"\"},\"colorscale\":[[0.0,\"#0d0887\"],[0.1111111111111111,\"#46039f\"],[0.2222222222222222,\"#7201a8\"],[0.3333333333333333,\"#9c179e\"],[0.4444444444444444,\"#bd3786\"],[0.5555555555555556,\"#d8576b\"],[0.6666666666666666,\"#ed7953\"],[0.7777777777777778,\"#fb9f3a\"],[0.8888888888888888,\"#fdca26\"],[1.0,\"#f0f921\"]],\"type\":\"histogram2d\"}],\"histogram2dcontour\":[{\"colorbar\":{\"outlinewidth\":0,\"ticks\":\"\"},\"colorscale\":[[0.0,\"#0d0887\"],[0.1111111111111111,\"#46039f\"],[0.2222222222222222,\"#7201a8\"],[0.3333333333333333,\"#9c179e\"],[0.4444444444444444,\"#bd3786\"],[0.5555555555555556,\"#d8576b\"],[0.6666666666666666,\"#ed7953\"],[0.7777777777777778,\"#fb9f3a\"],[0.8888888888888888,\"#fdca26\"],[1.0,\"#f0f921\"]],\"type\":\"histogram2dcontour\"}],\"mesh3d\":[{\"colorbar\":{\"outlinewidth\":0,\"ticks\":\"\"},\"type\":\"mesh3d\"}],\"parcoords\":[{\"line\":{\"colorbar\":{\"outlinewidth\":0,\"ticks\":\"\"}},\"type\":\"parcoords\"}],\"pie\":[{\"automargin\":true,\"type\":\"pie\"}],\"scatter\":[{\"marker\":{\"colorbar\":{\"outlinewidth\":0,\"ticks\":\"\"}},\"type\":\"scatter\"}],\"scatter3d\":[{\"line\":{\"colorbar\":{\"outlinewidth\":0,\"ticks\":\"\"}},\"marker\":{\"colorbar\":{\"outlinewidth\":0,\"ticks\":\"\"}},\"type\":\"scatter3d\"}],\"scattercarpet\":[{\"marker\":{\"colorbar\":{\"outlinewidth\":0,\"ticks\":\"\"}},\"type\":\"scattercarpet\"}],\"scattergeo\":[{\"marker\":{\"colorbar\":{\"outlinewidth\":0,\"ticks\":\"\"}},\"type\":\"scattergeo\"}],\"scattergl\":[{\"marker\":{\"colorbar\":{\"outlinewidth\":0,\"ticks\":\"\"}},\"type\":\"scattergl\"}],\"scattermapbox\":[{\"marker\":{\"colorbar\":{\"outlinewidth\":0,\"ticks\":\"\"}},\"type\":\"scattermapbox\"}],\"scatterpolar\":[{\"marker\":{\"colorbar\":{\"outlinewidth\":0,\"ticks\":\"\"}},\"type\":\"scatterpolar\"}],\"scatterpolargl\":[{\"marker\":{\"colorbar\":{\"outlinewidth\":0,\"ticks\":\"\"}},\"type\":\"scatterpolargl\"}],\"scatterternary\":[{\"marker\":{\"colorbar\":{\"outlinewidth\":0,\"ticks\":\"\"}},\"type\":\"scatterternary\"}],\"surface\":[{\"colorbar\":{\"outlinewidth\":0,\"ticks\":\"\"},\"colorscale\":[[0.0,\"#0d0887\"],[0.1111111111111111,\"#46039f\"],[0.2222222222222222,\"#7201a8\"],[0.3333333333333333,\"#9c179e\"],[0.4444444444444444,\"#bd3786\"],[0.5555555555555556,\"#d8576b\"],[0.6666666666666666,\"#ed7953\"],[0.7777777777777778,\"#fb9f3a\"],[0.8888888888888888,\"#fdca26\"],[1.0,\"#f0f921\"]],\"type\":\"surface\"}],\"table\":[{\"cells\":{\"fill\":{\"color\":\"#EBF0F8\"},\"line\":{\"color\":\"white\"}},\"header\":{\"fill\":{\"color\":\"#C8D4E3\"},\"line\":{\"color\":\"white\"}},\"type\":\"table\"}]},\"layout\":{\"annotationdefaults\":{\"arrowcolor\":\"#2a3f5f\",\"arrowhead\":0,\"arrowwidth\":1},\"autotypenumbers\":\"strict\",\"coloraxis\":{\"colorbar\":{\"outlinewidth\":0,\"ticks\":\"\"}},\"colorscale\":{\"diverging\":[[0,\"#8e0152\"],[0.1,\"#c51b7d\"],[0.2,\"#de77ae\"],[0.3,\"#f1b6da\"],[0.4,\"#fde0ef\"],[0.5,\"#f7f7f7\"],[0.6,\"#e6f5d0\"],[0.7,\"#b8e186\"],[0.8,\"#7fbc41\"],[0.9,\"#4d9221\"],[1,\"#276419\"]],\"sequential\":[[0.0,\"#0d0887\"],[0.1111111111111111,\"#46039f\"],[0.2222222222222222,\"#7201a8\"],[0.3333333333333333,\"#9c179e\"],[0.4444444444444444,\"#bd3786\"],[0.5555555555555556,\"#d8576b\"],[0.6666666666666666,\"#ed7953\"],[0.7777777777777778,\"#fb9f3a\"],[0.8888888888888888,\"#fdca26\"],[1.0,\"#f0f921\"]],\"sequentialminus\":[[0.0,\"#0d0887\"],[0.1111111111111111,\"#46039f\"],[0.2222222222222222,\"#7201a8\"],[0.3333333333333333,\"#9c179e\"],[0.4444444444444444,\"#bd3786\"],[0.5555555555555556,\"#d8576b\"],[0.6666666666666666,\"#ed7953\"],[0.7777777777777778,\"#fb9f3a\"],[0.8888888888888888,\"#fdca26\"],[1.0,\"#f0f921\"]]},\"colorway\":[\"#636efa\",\"#EF553B\",\"#00cc96\",\"#ab63fa\",\"#FFA15A\",\"#19d3f3\",\"#FF6692\",\"#B6E880\",\"#FF97FF\",\"#FECB52\"],\"font\":{\"color\":\"#2a3f5f\"},\"geo\":{\"bgcolor\":\"white\",\"lakecolor\":\"white\",\"landcolor\":\"#E5ECF6\",\"showlakes\":true,\"showland\":true,\"subunitcolor\":\"white\"},\"hoverlabel\":{\"align\":\"left\"},\"hovermode\":\"closest\",\"mapbox\":{\"style\":\"light\"},\"paper_bgcolor\":\"white\",\"plot_bgcolor\":\"#E5ECF6\",\"polar\":{\"angularaxis\":{\"gridcolor\":\"white\",\"linecolor\":\"white\",\"ticks\":\"\"},\"bgcolor\":\"#E5ECF6\",\"radialaxis\":{\"gridcolor\":\"white\",\"linecolor\":\"white\",\"ticks\":\"\"}},\"scene\":{\"xaxis\":{\"backgroundcolor\":\"#E5ECF6\",\"gridcolor\":\"white\",\"gridwidth\":2,\"linecolor\":\"white\",\"showbackground\":true,\"ticks\":\"\",\"zerolinecolor\":\"white\"},\"yaxis\":{\"backgroundcolor\":\"#E5ECF6\",\"gridcolor\":\"white\",\"gridwidth\":2,\"linecolor\":\"white\",\"showbackground\":true,\"ticks\":\"\",\"zerolinecolor\":\"white\"},\"zaxis\":{\"backgroundcolor\":\"#E5ECF6\",\"gridcolor\":\"white\",\"gridwidth\":2,\"linecolor\":\"white\",\"showbackground\":true,\"ticks\":\"\",\"zerolinecolor\":\"white\"}},\"shapedefaults\":{\"line\":{\"color\":\"#2a3f5f\"}},\"ternary\":{\"aaxis\":{\"gridcolor\":\"white\",\"linecolor\":\"white\",\"ticks\":\"\"},\"baxis\":{\"gridcolor\":\"white\",\"linecolor\":\"white\",\"ticks\":\"\"},\"bgcolor\":\"#E5ECF6\",\"caxis\":{\"gridcolor\":\"white\",\"linecolor\":\"white\",\"ticks\":\"\"}},\"title\":{\"x\":0.05},\"xaxis\":{\"automargin\":true,\"gridcolor\":\"white\",\"linecolor\":\"white\",\"ticks\":\"\",\"title\":{\"standoff\":15},\"zerolinecolor\":\"white\",\"zerolinewidth\":2},\"yaxis\":{\"automargin\":true,\"gridcolor\":\"white\",\"linecolor\":\"white\",\"ticks\":\"\",\"title\":{\"standoff\":15},\"zerolinecolor\":\"white\",\"zerolinewidth\":2}}},\"xaxis\":{\"anchor\":\"y\",\"domain\":[0.0,0.2888888888888889]},\"yaxis\":{\"anchor\":\"x\",\"domain\":[0.80625,1.0]},\"xaxis2\":{\"anchor\":\"y2\",\"domain\":[0.35555555555555557,0.6444444444444445]},\"yaxis2\":{\"anchor\":\"x2\",\"domain\":[0.80625,1.0]},\"xaxis3\":{\"anchor\":\"y3\",\"domain\":[0.7111111111111111,1.0]},\"yaxis3\":{\"anchor\":\"x3\",\"domain\":[0.80625,1.0]},\"xaxis4\":{\"anchor\":\"y4\",\"domain\":[0.0,0.2888888888888889]},\"yaxis4\":{\"anchor\":\"x4\",\"domain\":[0.5375,0.73125]},\"xaxis5\":{\"anchor\":\"y5\",\"domain\":[0.35555555555555557,0.6444444444444445]},\"yaxis5\":{\"anchor\":\"x5\",\"domain\":[0.5375,0.73125]},\"xaxis6\":{\"anchor\":\"y6\",\"domain\":[0.7111111111111111,1.0]},\"yaxis6\":{\"anchor\":\"x6\",\"domain\":[0.5375,0.73125]},\"xaxis7\":{\"anchor\":\"y7\",\"domain\":[0.0,0.2888888888888889]},\"yaxis7\":{\"anchor\":\"x7\",\"domain\":[0.26875,0.4625]},\"xaxis8\":{\"anchor\":\"y8\",\"domain\":[0.35555555555555557,0.6444444444444445]},\"yaxis8\":{\"anchor\":\"x8\",\"domain\":[0.26875,0.4625]},\"xaxis9\":{\"anchor\":\"y9\",\"domain\":[0.7111111111111111,1.0]},\"yaxis9\":{\"anchor\":\"x9\",\"domain\":[0.26875,0.4625]},\"xaxis10\":{\"anchor\":\"y10\",\"domain\":[0.0,0.2888888888888889]},\"yaxis10\":{\"anchor\":\"x10\",\"domain\":[0.0,0.19375]},\"xaxis11\":{\"anchor\":\"y11\",\"domain\":[0.35555555555555557,0.6444444444444445]},\"yaxis11\":{\"anchor\":\"x11\",\"domain\":[0.0,0.19375]},\"xaxis12\":{\"anchor\":\"y12\",\"domain\":[0.7111111111111111,1.0]},\"yaxis12\":{\"anchor\":\"x12\",\"domain\":[0.0,0.19375]},\"title\":{\"text\":\"Acur\\u00e1cia x Total Examples\"},\"height\":800,\"width\":1600},                        {\"responsive\": true}                    ).then(function(){\n",
       "                            \n",
       "var gd = document.getElementById('7065a613-52c1-4fbf-b93f-043d6089a39d');\n",
       "var x = new MutationObserver(function (mutations, observer) {{\n",
       "        var display = window.getComputedStyle(gd).display;\n",
       "        if (!display || display === 'none') {{\n",
       "            console.log([gd, 'removed!']);\n",
       "            Plotly.purge(gd);\n",
       "            observer.disconnect();\n",
       "        }}\n",
       "}});\n",
       "\n",
       "// Listen for the removal of the full notebook cells\n",
       "var notebookContainer = gd.closest('#notebook-container');\n",
       "if (notebookContainer) {{\n",
       "    x.observe(notebookContainer, {childList: true});\n",
       "}}\n",
       "\n",
       "// Listen for the clearing of the current output cell\n",
       "var outputEl = gd.closest('.output');\n",
       "if (outputEl) {{\n",
       "    x.observe(outputEl, {childList: true});\n",
       "}}\n",
       "\n",
       "                        })                };                });            </script>        </div>"
      ]
     },
     "metadata": {},
     "output_type": "display_data"
    }
   ],
   "source": [
    "plot_dimension_variation(acc)"
   ]
  },
  {
   "cell_type": "code",
   "execution_count": null,
   "metadata": {},
   "outputs": [],
   "source": []
  }
 ],
 "metadata": {
  "colab": {
   "authorship_tag": "ABX9TyMzGSB+En+Iujr8v+I24WcV",
   "collapsed_sections": [],
   "include_colab_link": true,
   "mount_file_id": "1-ShORRcjh1fhRQX7CIkEGxueFQG5Czp8",
   "name": "Word2Vec.ipynb",
   "provenance": []
  },
  "kernelspec": {
   "display_name": "Python 3",
   "language": "python",
   "name": "python3"
  },
  "language_info": {
   "codemirror_mode": {
    "name": "ipython",
    "version": 3
   },
   "file_extension": ".py",
   "mimetype": "text/x-python",
   "name": "python",
   "nbconvert_exporter": "python",
   "pygments_lexer": "ipython3",
   "version": "3.9.5"
  }
 },
 "nbformat": 4,
 "nbformat_minor": 1
}
